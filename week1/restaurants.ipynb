{
  "nbformat": 4,
  "nbformat_minor": 0,
  "metadata": {
    "colab": {
      "name": "restaurants.ipynb",
      "version": "0.3.2",
      "provenance": [],
      "collapsed_sections": [],
      "include_colab_link": true
    },
    "kernelspec": {
      "display_name": "Python 3",
      "language": "python",
      "name": "python3"
    }
  },
  "cells": [
    {
      "cell_type": "markdown",
      "metadata": {
        "id": "view-in-github",
        "colab_type": "text"
      },
      "source": [
        "<a href=\"https://colab.research.google.com/github/TatianaPivovar/homework-coursera-learn-to-program/blob/master/week1/restaurants.ipynb\" target=\"_parent\"><img src=\"https://colab.research.google.com/assets/colab-badge.svg\" alt=\"Open In Colab\"/></a>"
      ]
    },
    {
      "metadata": {
        "id": "QZAD8HrUlmZB",
        "colab_type": "code",
        "colab": {
          "base_uri": "https://localhost:8080/",
          "height": 35
        },
        "outputId": "69bd9ee3-d601-43a4-bffd-b779e01cc742"
      },
      "cell_type": "code",
      "source": [
        "\"\"\"\n",
        "A restaurant recommendation system.\n",
        "\n",
        "Here are some example dictionaries.  These correspond to the information in\n",
        "restaurants_small.txt.\n",
        "\n",
        "Restaurant name to rating:\n",
        "# dict of {str: int}\n",
        "{'Georgie Porgie': 87,\n",
        " 'Queen St. Cafe': 82,\n",
        " 'Dumplings R Us': 71,\n",
        " 'Mexican Grill': 85,\n",
        " 'Deep Fried Everything': 52}\n",
        "\n",
        "Price to list of restaurant names:\n",
        "# dict of {str, list of str}\n",
        "{'$': ['Queen St. Cafe', 'Dumplings R Us', 'Deep Fried Everything'],\n",
        " '$$': ['Mexican Grill'],\n",
        " '$$$': ['Georgie Porgie'],\n",
        " '$$$$': []}\n",
        "\n",
        "Cuisine to list of restaurant names:\n",
        "# dict of {str, list of str}\n",
        "{'Canadian': ['Georgie Porgie'],\n",
        " 'Pub Food': ['Georgie Porgie', 'Deep Fried Everything'],\n",
        " 'Malaysian': ['Queen St. Cafe'],\n",
        " 'Thai': ['Queen St. Cafe'],\n",
        " 'Chinese': ['Dumplings R Us'],\n",
        " 'Mexican': ['Mexican Grill']}\n",
        "\n",
        "With this data, for a price of '$' and cuisines of ['Chinese', 'Thai'], we\n",
        "would produce this list:\n",
        "\n",
        "    [[82, 'Queen St. Cafe'], [71, 'Dumplings R Us']]\n",
        "\"\"\"\n",
        "\n",
        "# The file containing the restaurant data.\n",
        "FILENAME = 'restaurants_small.txt'\n",
        "RESOURCESPATH = 'Coursera/Learn-to-program/Week1/'\n",
        "GDRIVEPREFIX = '/content/gdrive/'\n",
        "GDRIVEPATH = GDRIVEPREFIX + 'My Drive/'\n",
        "FULLPATH = GDRIVEPATH + RESOURCESPATH\n",
        "\n",
        "\n",
        "def recommend(file, price, cuisines_list):\n",
        "    \"\"\"(file open for reading, str, list of str) -> list of [int, str] list\n",
        "\n",
        "    Find restaurants in file that are priced according to price and that are\n",
        "    tagged with any of the items in cuisines_list.  Return a list of lists of\n",
        "    the form [rating%, restaurant name], sorted by rating%.\n",
        "    \"\"\"\n",
        "\n",
        "    # Read the file and build the data structures.\n",
        "    # - a dict of {restaurant name: rating%}\n",
        "    # - a dict of {price: list of restaurant namesy}\n",
        "    # - a dict of {cusine: list of restaurant names}\n",
        "    name_to_rating, price_to_names, cuisine_to_names = read_restaurants(file)\n",
        "\n",
        "\n",
        "    # Look for price or cuisines first?\n",
        "    # Price: look up the list of restaurant names for the requested price.\n",
        "    names_matching_price = price_to_names[price]\n",
        "\n",
        "    # Now we have a list of restaurants in the right price range.\n",
        "    # Need a new list of restaurants that serve one of the cuisines.\n",
        "    names_final = filter_by_cuisine(names_matching_price, cuisine_to_names, cuisines_list)\n",
        "\n",
        "    # Now we have a list of restaurants that are in the right price range and serve the requested cuisine.\n",
        "    # Need to look at ratings and sort this list.\n",
        "    result = build_rating_list(name_to_rating, names_final)\n",
        "\n",
        "    # We're done!  Return that sorted list.\n",
        "    return result\n",
        "\n",
        "def build_rating_list(name_to_rating, names_final):\n",
        "    \"\"\" (dict of {str: int}, list of str) -> list of list of [int, str]\n",
        "\n",
        "    Return a list of [rating%, restaurant name], sorted by rating%\n",
        "\n",
        "    >>> name_to_rating = {'Georgie Porgie': 87,\n",
        "     'Queen St. Cafe': 82,\n",
        "     'Dumplings R Us': 71,\n",
        "     'Mexican Grill': 85,\n",
        "     'Deep Fried Everything': 52}\n",
        "    >>> names = ['Queen St. Cafe', 'Dumplings R Us']\n",
        "    [[82, 'Queen St. Cafe'], [71, 'Dumplings R Us']]\n",
        "    \"\"\"\n",
        "    rating_list = [[name_to_rating[name], name] for name in names_final]\n",
        "    return sorted(rating_list, reverse = True)\n",
        "\n",
        "def filter_by_cuisine(names_matching_price, cuisine_to_names, cuisines_list):\n",
        "    \"\"\" (list of str, dict of {str: list of str}, list of str) -> list of str\n",
        "\n",
        "    >>> names = ['Queen St. Cafe', 'Dumplings R Us', 'Deep Fried Everything']\n",
        "    >>> cuis = 'Canadian': ['Georgie Porgie'],\n",
        "     'Pub Food': ['Georgie Porgie', 'Deep Fried Everything'],\n",
        "     'Malaysian': ['Queen St. Cafe'],\n",
        "     'Thai': ['Queen St. Cafe'],\n",
        "     'Chinese': ['Dumplings R Us'],\n",
        "     'Mexican': ['Mexican Grill']}\n",
        "    >>> cuisines = ['Chinese', 'Thai']\n",
        "    >>> filter_by_cuisine(names, cuis, cuisines)\n",
        "    ['Queen St. Cafe', 'Dumplings R Us']\n",
        "    \"\"\"\n",
        "    set_of_names = set()\n",
        "    for cuisine in cuisines_list:\n",
        "      set_of_names |= set(cuisine_to_names[cuisine])\n",
        "    set_of_names &= set(names_matching_price)\n",
        "    return list(set_of_names)\n",
        "\n",
        "def read_restaurants(file):\n",
        "    \"\"\" (file) -> (dict, dict, dict)\n",
        "\n",
        "    Return a tuple of three dictionaries based on the information in the file:\n",
        "\n",
        "    - a dict of {restaurant name: rating%}\n",
        "    - a dict of {price: list of restaurant names}\n",
        "    - a dict of {cusine: list of restaurant names}\n",
        "    \"\"\"\n",
        "\n",
        "    name_to_rating = {}\n",
        "    price_to_names = {'$': [], '$$': [], '$$$': [], '$$$$': []}\n",
        "    cuisine_to_names = {}\n",
        "    with open(file, 'r')as f:\n",
        "      restaurants = f.read().split('\\n\\n')\n",
        "      for restaurant in restaurants:\n",
        "        name, rating_str, price, cuisines = restaurant.splitlines()\n",
        "        rating = int(rating_str.rstrip('%'))\n",
        "        name_to_rating[name] = rating\n",
        "        price_to_names.setdefault(price, []).append(name)\n",
        "        for cuisine in cuisines.split(','):\n",
        "          cuisine_to_names.setdefault(cuisine, []).append(name)\n",
        "    return name_to_rating, price_to_names, cuisine_to_names\n",
        "\n",
        "\n",
        "rec = recommend(FULLPATH + FILENAME, '$', ['Thai', 'Chinese'])\n",
        "print(rec)"
      ],
      "execution_count": 4,
      "outputs": [
        {
          "output_type": "stream",
          "text": [
            "[[82, 'Queen St. Cafe'], [71, 'Dumplings R Us']]\n"
          ],
          "name": "stdout"
        }
      ]
    },
    {
      "metadata": {
        "id": "Kf88iuS9lmZP",
        "colab_type": "code",
        "colab": {}
      },
      "cell_type": "code",
      "source": [
        "from google.colab import drive\n",
        "drive.mount('/content/gdrive')"
      ],
      "execution_count": 0,
      "outputs": []
    },
    {
      "metadata": {
        "id": "PGja7SHH1CMv",
        "colab_type": "code",
        "colab": {}
      },
      "cell_type": "code",
      "source": [
        ""
      ],
      "execution_count": 0,
      "outputs": []
    }
  ]
}