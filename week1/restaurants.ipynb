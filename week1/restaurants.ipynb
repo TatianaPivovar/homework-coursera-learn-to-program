{
 "cells": [
  {
   "cell_type": "markdown",
   "metadata": {},
   "source": [
    "# The Restaurant Recommendation Problem\n",
    "\n",
    "While learning, students are often told which functions to write, including the function names, parameters and return types.\n",
    "\n",
    "The next set of videos focus on an exercise where you get to decide yourself which functions to write. The example also gives you more practice with dictionaries, lists, and files.\n",
    "\n",
    "## Task\n",
    "\n",
    "The problem we'll be tackling is a restaurant recommendation system.\n",
    "\n",
    "We are given a list of restaurants that contains:\n",
    "\n",
    "1. The name of the restaurant.\n",
    "2. The percentage of people who recommended the restaurant.\n",
    "3. The price range of the restaurant.\n",
    "4. The type of food served by the restaurant.\n",
    "\n",
    "The program will make a recommendation to the user based on this data.\n",
    "\n",
    "We'll tell you a bit about the main function, but this task is complex and helper functions will make writing the main function much easier.\n",
    "\n",
    "## The Problem:\n",
    "\n",
    "Write a function that has three parameters:\n",
    "\n",
    "* a restaurant file that is open for reading,\n",
    "* the price range (one of `$`, `$$`, `$$$` and `$$$$`), and\n",
    "* a list of cuisines.\n",
    "\n",
    "The function returns a list of restaurants (in that price range, serving at least one of those cuisines), and their ratings sorted from highest to lowest.\n",
    "\n",
    "**Next Video**: Explore how to keep track of data in Python  \n",
    "**Following Video**: How to break the problem into a series of sub-problems"
   ]
  },
  {
   "cell_type": "markdown",
   "metadata": {},
   "source": [
    "# Restaurant Recommendations: Representing the Data\n",
    "\n",
    "The first step to solving the restaurant recommendations problem is choosing data structures to store the information on restaurant prices, ratings, and cuisines.\n",
    "\n",
    "## Examining the Data File\n",
    "\n",
    "Here is the restaurant data from a sample file:\n",
    "\n",
    "    Georgie Porgie\n",
    "    87%\n",
    "    $$$\n",
    "    Canadian, Pub Food\n",
    "\n",
    "    Queen St. Cafe\n",
    "    82%\n",
    "    $\n",
    "    Malaysian, Thai\n",
    "\n",
    "    Dumplings R Us\n",
    "    71%\n",
    "    $\n",
    "    Chinese\n",
    "\n",
    "    Mexican Grill\n",
    "    85%\n",
    "    $$\n",
    "    Mexican\n",
    "\n",
    "    Deep Fried Everything\n",
    "    52%\n",
    "    $\n",
    "    Pub Food\n",
    "\n",
    "## Examining the Data\n",
    "\n",
    "We'll organize the data by grouping it according to tasks that we would like to perform.\n",
    "\n",
    "### Rating Information\n",
    "\n",
    "For each restaurant, we want to be able to look up the rating, so we'll keep track of that information:\n",
    "\n",
    "**Georgie Porgie**: 87  \n",
    "**Queen St. Cafe**: 82  \n",
    "**Dumplings R Us**: 71  \n",
    "**Mexican Grill**: 85  \n",
    "**Deep Fried Everything**: 52\n",
    "\n",
    "### Price Range Information\n",
    "\n",
    "We'll also want to look up restaurants by price, so we'll make a list of that data:\n",
    "\n",
    "**\\$**: Queen St. Cafe, Dumplings R Us, Deep Fried Everything  \n",
    "**\\$\\$**: Mexican Grill  \n",
    "**\\$\\$\\$**: Georgie Porgie  \n",
    "**\\$\\$**__\\$\\$__\\:\n",
    "\n",
    "### Cuisine Information\n",
    "\n",
    "Recommendations are made based on types of cuisine as well, so we need to keep track of that information:\n",
    "\n",
    "**Canadian**: Georgie Porgie  \n",
    "**Pub Food**: Georgie Porgie, Deep Fried Everything  \n",
    "**Malaysian**: Queen St. Cafe  \n",
    "**Thai**: Queen St. Cafe  \n",
    "**Chinese**: Dumplings R Us  \n",
    "**Mexican**: Mexican Grill  \n",
    "\n",
    "## Choose the data structure\n",
    "\n",
    "What data structures can we use to store this information?\tWe could use strings, lists, tuples or dictionaries. That is a design decision that we need to make.\n",
    "\n",
    "### Rating Information\n",
    "\n",
    "Our \"Rating Information\" looks a lot like a Python dictionary, where each key is a restaurant name and each value is a rating.\n",
    "\n",
    "Let's add some braces and commas to make the structure look more like a Python dictionary. Let's also add quotes around the restaurant names to make them strings. Finally, let's create a variable name `name_to_rating` that refers to this dictionary:\n",
    "\n",
    "**Georgie Porgie**: 87  \n",
    "**Queen St. Cafe**: 82  \n",
    "**Dumplings R Us**: 71  \n",
    "**Mexican Grill**: 85  \n",
    "**Deep Fried Everything**: 52  \n"
   ]
  },
  {
   "cell_type": "code",
   "execution_count": null,
   "metadata": {},
   "outputs": [],
   "source": [
    "name_to_rating = {'Georgie Porgie': 87,\n",
    "'Queen St. Cafe': 82,\n",
    "'Dumplings R Us': 71,\n",
    "'Mexican Grill': 85,\n",
    "'Deep Fried Everything': 52}\n"
   ]
  },
  {
   "cell_type": "markdown",
   "metadata": {},
   "source": [
    "Now, to find ratings, we can use the restaurant's name."
   ]
  },
  {
   "cell_type": "code",
   "execution_count": null,
   "metadata": {},
   "outputs": [],
   "source": [
    "print(name_to_rating['Queen St. Cafe'])"
   ]
  },
  {
   "cell_type": "markdown",
   "metadata": {},
   "source": [
    "This dictionary type can be written as: dict of `{str: int}`\n",
    "\n",
    "### Pricing Information\n",
    "\n",
    "Pricing information also looks a lot like a Python dictionary. We would like to be able to look up a price and get all the restaurants in the price range.\n",
    "\n",
    "The `keys` (price ranges) look like strings, and the `values` (restaurant names) look like strings too; however, there can be zero, one or more than one restaurant associated with each price range. Therefore, each `value` will be a `list of str`.\n",
    "\n",
    "Again, adding quotes, commas, brackets, braces and a variable name gives us:\n",
    "\n",
    "**\\$**: Queen St. Cafe, Dumplings R Us, Deep Fried Everything  \n",
    "**\\$\\$**: Mexican Grill  \n",
    "**\\$\\$\\$**: Georgie Porgie  \n",
    "**\\$\\$**__\\$\\$__:  \n"
   ]
  },
  {
   "cell_type": "code",
   "execution_count": null,
   "metadata": {},
   "outputs": [],
   "source": [
    "price_to_names = {'$': ['Queen St. Cafe', 'Dumplings R Us', 'Deep Fried Everything'],\n",
    "'$$': ['Mexican Grill'],\n",
    "'$$$': ['Georgie Porgie'],\n",
    "'$$$$': []}"
   ]
  },
  {
   "cell_type": "markdown",
   "metadata": {},
   "source": [
    "We can use this dictionary to find restaurants in a given price range."
   ]
  },
  {
   "cell_type": "code",
   "execution_count": null,
   "metadata": {},
   "outputs": [],
   "source": [
    "price_to_names['$']"
   ]
  },
  {
   "cell_type": "markdown",
   "metadata": {},
   "source": [
    "This dictionary type can be written as: `dict of {str: list of str}`\n",
    "\n",
    "### Cuisine Information\n",
    "\n",
    "A dictionary is also suitable for representing cuisine information.\n",
    "\n",
    "In this case, the type will be `dict of {str: list of str}`. Each `key` will be a cuisine and each `value` will be a `list of str`, since there can be more than one restaurant for each type of cuisine.\n",
    "\n",
    "Once again, adding quotes, commas, brakets, braces and a variable name gives us:\n",
    "\n",
    "**Canadian**: Georgie Porgie  \n",
    "**Pub Food**: Georgie Porgie, Deep Fried Everything  \n",
    "**Malaysian**: Queen St. Cafe  \n",
    "**Thai**: Queen St. Cafe  \n",
    "**Chinese**: Dumplings R Us  \n",
    "**Mexican**: Mexican Grill  \n"
   ]
  },
  {
   "cell_type": "code",
   "execution_count": null,
   "metadata": {},
   "outputs": [],
   "source": [
    "cuisine_to_name = {'Canadian': ['Georgie Porgie'],\n",
    "'Pub Food': ['Georgie Porgie', Deep Fried Everything'],\n",
    "'Malaysian': ['Queen St. Cafe'],\n",
    "'Thai': ['Queen St. Cafe'],\n",
    "'Chinese': ['Dumplings R Us'],\n",
    "'Mexican': ['Mexican Grill']}"
   ]
  },
  {
   "cell_type": "markdown",
   "metadata": {},
   "source": [
    "We can use this dictionary to find restaurants that serve a particular type of cuisine."
   ]
  },
  {
   "cell_type": "code",
   "execution_count": null,
   "metadata": {},
   "outputs": [],
   "source": [
    "cuisine_to_name['Chinese']"
   ]
  },
  {
   "cell_type": "markdown",
   "metadata": {},
   "source": [
    "# Restaurant Recommendations: Planning the Program\n",
    "\n",
    "At this point, you should:\n",
    "\n",
    "* understand the problem, and  \n",
    "* be familiar with the data structures we'll use to represent the data from the file.\n",
    "\n",
    "Next, we'll design the functions.\n",
    "\n",
    "## Quick Review:\n",
    "\n",
    "We've created 3 dictionaries:\n",
    "\n",
    "1. restaurant to rating (`dict of {str: int}`)  \n",
    "2. price range to restaurants (`dict of {str: list of str}`)  \n",
    "3. cuisine type to restaurants (`dict of {str: list of str}`)\n",
    "\n",
    "## Planning the Program\n",
    "\n",
    "1. As with many programs, the first step is reading the file and building the data structures (in this case, building the three dictionaries).  \n",
    "2. Now we need to make a design decision: should we look up restaurants by price or by cuisine first? We choose to look up price first. (Choosing to look up restaurants by cuisine first would result in a different solution.) We'll make a list of the restaurants in the desired price range.  \n",
    "3. Next, we need to create a list of restaurants in the desired price range list that serve one of the desired cuisines.  \n",
    "4. Now that we have a list of restaurants in the desired price range that serve the desired cuisine type, we need to sort the restaurants based on their ratings and return the sorted list.\n",
    "\n",
    "### Design Tip\n",
    "\n",
    "* Before programming, plan your program by breaking it down into subproblems. Take notes.  \n",
    "* Work through at least one example by hand and decide how to represent the data.  \n",
    "* Decompose the problem into subproblems so that you have more places in the program to test for correctness.\n",
    "\n",
    "## More Planning and Some Implementation\n",
    "\n",
    "### Step 1 - Build the Data Structures\n",
    "\n",
    "Start by building the data structures we've discussed:\n",
    "* a `dict of {restaurant name: rating %}`  \n",
    "* a `dict of {price: list of restaurant names}`  \n",
    "* a `dict of {cuisine: list of restaurant names}`\n",
    "\n",
    "To do all of this in one function would be long, messy and hard to debug.Therefore, we create another function that takes a file and returns the three dictionaries as a tuple:\n",
    "\n",
    "`name_to_rating, price_to_names, cuisine_to_names = read_restaurant(file)`\n",
    "\n",
    "We can now create the header for this new function and create three accumulator variables. The function will accumulate the information from the file in the three dictionaries as it reads the file line-by-line:\n"
   ]
  },
  {
   "cell_type": "code",
   "execution_count": null,
   "metadata": {},
   "outputs": [],
   "source": [
    "def read_restaurants(file):\n",
    "    \"\"\" (file) -> (dict of {str: int}, dict of {str: list of str}, dict of {str: list of str})\n",
    "    \n",
    "    Return a tuple of three dictionaries based on the information in file:\n",
    "    \n",
    "    - a dict of {restaurant name: rating%}\n",
    "    - a dict of {price range: list of restaurant names}\n",
    "    - a dict of {cuisine: list of restaurant names}\n",
    "    \"\"\"\n",
    "    \n",
    "    name_to_rating = {}\n",
    "    price_to_name = {'$':[], '$$':[], '$$$':[], '$$$$':[]}\n",
    "    cuisine_to_name = {}\n",
    "    "
   ]
  },
  {
   "cell_type": "markdown",
   "metadata": {},
   "source": [
    "Finishing this function is left as an exercise for you. We recommend you approach it as follows:\n",
    "\n",
    "* Read the file line by line, and build up the `name_to_rating` dictionary.  \n",
    "* Only once that's working, go back and edit the function to build up the `price_to_name` dictionary as well.  \n",
    "* Next, add the code to build the `cuisine_to_name` dictionary.  \n",
    "* You should only read through the file once, so you'll need to add more statements in your for loop to build the 2nd and 3rd dictionaries.  \n",
    "* One thing that you may find a bit challenging is pulling apart the comma separated list of cuisines for the `cuisine_to_name` dictionary. You may want to create a helper function to aid with this task.\n",
    "\n",
    "### Step 2 - Filter by Price Range\n",
    "\n",
    "We now have:\n",
    "* the `price_to_name` dictionary, and  \n",
    "* the price range the user desires.\n",
    "\n",
    "We can find the names of restaurants in that price range as follows:\n"
   ]
  },
  {
   "cell_type": "code",
   "execution_count": null,
   "metadata": {},
   "outputs": [],
   "source": [
    "names_matching_price = price_to_names[price]"
   ]
  },
  {
   "cell_type": "markdown",
   "metadata": {},
   "source": [
    "### Step 3 - Filter by Cuisine\n",
    "\n",
    "We now need a new list of restaurants from the `names_matching_price` list that we just created that also serve the desired type of cuisine. We'll add a helper function `filter_by_cuisine` to return a list of all of the restaurants that are in the price range that serves one of the cuisines in the `cuisines_list`.\n"
   ]
  },
  {
   "cell_type": "code",
   "execution_count": null,
   "metadata": {},
   "outputs": [],
   "source": [
    "names_final = filter_by_cuisine(names_matching_price, cuisine_to_names, and cuisines_list)"
   ]
  },
  {
   "cell_type": "markdown",
   "metadata": {},
   "source": [
    "Start by writing following the Function Design Recipe to write the function header:\n",
    "\n",
    "\n",
    "\n"
   ]
  },
  {
   "cell_type": "code",
   "execution_count": null,
   "metadata": {},
   "outputs": [],
   "source": [
    "def filter_by_cuisine(names_matching_price, cuisine_to_names, cuisines_list):\n",
    "    \"\"\" (list of str, dict of {str: list of str}, list of str) -> list of str\n",
    "\n",
    "    Return a list of the restaurants in names_matching_price that serve at\n",
    "    least one of the cuisines in cuisines_list according to cuisine_to_names.\n",
    "\n",
    "    >>> names = ['Queen St. Cafe', 'Dumplings R Us', 'Deep Fried Everything']\n",
    "    >>> cuis = {'Canadian': ['Georgie Porgie'],\n",
    "                'Pub Food': ['Georgie Porgie', 'Deep Fried Everything'],\n",
    "                'Malaysian': ['Queen St. Cafe'],\n",
    "                'Thai': ['Queen St. Cafe'],\n",
    "                'Chinese: ['Dumplings R Us'],\n",
    "                'Mexican': ['Mexican Grill']}\n",
    "    >>> cuisines = ['Chinese', 'Thai']\n",
    "    >>> filter_by_cuisine(names, cuis, cuisines)\n",
    "    ['Queen St. Cafe', 'Dumplings R Us']\n",
    "    \"\"\""
   ]
  },
  {
   "cell_type": "markdown",
   "metadata": {},
   "source": [
    "In the example in the docstring, we filtered the names_matching_price list, looking for Thai ('Queen St. Cafe') and Chinese ('Dumplings R Us'). We expect those two restaurants to be returned: \\['Queen St. Cafe', 'Dumplings R Us'\\].\n",
    "\n",
    "For this example, we would start by looking for 'Queen St. Cafe' in the 'Chinese' food list. It's not there, so we now check the 'Thai' food list. It is there, so we add 'Queen St. Cafe' to our accumulator. We then move onto 'Dumplings R Us' and then 'Deep Fried Everything' repeating the same process.\n",
    "Since 'Deep Fried Everything' doesn't appear in either the Chinese or Thai lists, it is excluded from the results.\n",
    "\n",
    "This function is left as an exercise for you to implement.\n",
    "\n",
    "### Step 4 - Sort and Return\n",
    "\n",
    "We need to build a list of list in the right format, and sort by rating percentage. Again, we'll use a helper function:\n"
   ]
  },
  {
   "cell_type": "code",
   "execution_count": null,
   "metadata": {},
   "outputs": [],
   "source": [
    "result = build_rating_list(name_to_rating, names_final)"
   ]
  },
  {
   "cell_type": "markdown",
   "metadata": {},
   "source": [
    "Again, start with the function header:"
   ]
  },
  {
   "cell_type": "code",
   "execution_count": null,
   "metadata": {},
   "outputs": [],
   "source": [
    "def build_rating_list(names_matching, name_to_rating):\n",
    "    \"\"\" (list of str, dict of {str: int}) -> list of [int, str] list\n",
    "\n",
    "    Return a list of [rating%, restaurant name], sorted by rating%.\n",
    "    >>> name_to_rating = {'Georgie Porgie': 87,\n",
    "                          'Queen St. Cafe': 82,\n",
    "                          'Dumplings R Us': 71,\n",
    "                          'Mexican Grill': 85,\n",
    "                          'Deep Fried Everything': 52}\n",
    "    >>> names = ['Queen St. Cafe', 'Dumplings R Us']\n",
    "    >>> build_rating_list(name_to_rating, names)\n",
    "    [[82, 'Queen St. Cafe'], [71, 'Dumplings R Us']]\n",
    "    \"\"\"\n"
   ]
  },
  {
   "cell_type": "markdown",
   "metadata": {},
   "source": [
    "Final steps\n",
    "\n",
    "Now, all that's left is to sort and return the list of recommended restaurants.\tThe reason we put the rating first, followed by the string, is that when calling sort() on a list of list, it will use the first value of the inner list to determine the sort order of the items.\n",
    "\n",
    "The rest of this function is being left for you to complete."
   ]
  },
  {
   "cell_type": "code",
   "execution_count": null,
   "metadata": {},
   "outputs": [],
   "source": []
  }
 ],
 "metadata": {
  "kernelspec": {
   "display_name": "Python 3",
   "language": "python",
   "name": "python3"
  },
  "language_info": {
   "codemirror_mode": {
    "name": "ipython",
    "version": 3
   },
   "file_extension": ".py",
   "mimetype": "text/x-python",
   "name": "python",
   "nbconvert_exporter": "python",
   "pygments_lexer": "ipython3",
   "version": "3.6.6"
  }
 },
 "nbformat": 4,
 "nbformat_minor": 2
}
